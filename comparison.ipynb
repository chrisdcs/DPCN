{
 "cells": [
  {
   "cell_type": "code",
   "execution_count": 1,
   "metadata": {},
   "outputs": [],
   "source": [
    "import torch\n",
    "import torch.nn as nn\n",
    "import numpy as np\n",
    "from time import time\n",
    "\n",
    "from sklearn.decomposition import PCA\n",
    "from sklearn.preprocessing import StandardScaler\n",
    "import matplotlib.pyplot as plt\n",
    "import os\n",
    "import scipy.io as sio\n",
    "device = torch.device(\"cuda:0\" if torch.cuda.is_available() else \"cpu\")\n",
    "\n",
    "from torch.utils.data import DataLoader\n",
    "from utils.datasets import video_loader, mario_loader\n",
    "from utils.model import Layer_FISTA\n",
    "from utils.model import Shrinkage_Layer\n",
    "\n",
    "from sklearn import metrics\n",
    "from sklearn.cluster import KMeans\n",
    "from sklearn.pipeline import make_pipeline\n",
    "from sklearn.preprocessing import StandardScaler"
   ]
  },
  {
   "cell_type": "code",
   "execution_count": 56,
   "metadata": {},
   "outputs": [],
   "source": [
    "def bench_k_means(kmeans, name, data, labels):\n",
    "    \"\"\"Benchmark to evaluate the KMeans initialization methods.\n",
    "\n",
    "    Parameters\n",
    "    ----------\n",
    "    kmeans : KMeans instance\n",
    "        A :class:`~sklearn.cluster.KMeans` instance with the initialization\n",
    "        already set.\n",
    "    name : str\n",
    "        Name given to the strategy. It will be used to show the results in a\n",
    "        table.\n",
    "    data : ndarray of shape (n_samples, n_features)\n",
    "        The data to cluster.\n",
    "    labels : ndarray of shape (n_samples,)\n",
    "        The labels used to compute the clustering metrics which requires some\n",
    "        supervision.\n",
    "    \"\"\"\n",
    "    t0 = time()\n",
    "    estimator = make_pipeline(StandardScaler(), kmeans).fit(data)\n",
    "    fit_time = time() - t0\n",
    "    results = [name, fit_time, estimator[-1].inertia_]\n",
    "\n",
    "    # Define the metrics which require only the true labels and estimator\n",
    "    # labels\n",
    "    clustering_metrics = [\n",
    "        metrics.completeness_score,\n",
    "        metrics.adjusted_rand_score,\n",
    "    ]\n",
    "    results += [m(labels, estimator[-1].labels_) for m in clustering_metrics]\n",
    "\n",
    "    # The silhouette score requires the full dataset\n",
    "    results += [\n",
    "        metrics.silhouette_score(\n",
    "            data,\n",
    "            estimator[-1].labels_,\n",
    "            metric=\"euclidean\",\n",
    "            sample_size=500,\n",
    "        )\n",
    "    ]\n",
    "\n",
    "    # Show the results\n",
    "    formatter_result = (\n",
    "        \"{:9s}\\t{:.3f}s\\t{:.0f}\\t{:.4f}\\t{:.4f}\\t{:.4f}\"#\\t{:.3f}\\t{:.3f}\\t{:.3f}\\t{:.3f}\"\n",
    "    )\n",
    "    print(formatter_result.format(*results))\n",
    "    return results\n",
    "\n",
    "def compute_scores(U, dim, labels):\n",
    "    U = U[0].cpu().numpy()\n",
    "    #print(U.shape)\n",
    "    U = np.mean(np.abs(U), axis=1)\n",
    "\n",
    "    U_flat = np.zeros((U.shape[-1], U.shape[0] * U.shape[1]))\n",
    "    for i in range(U.shape[-1]):\n",
    "        U_flat[i, :] = U[:,:,:,i].flatten()\n",
    "    #print(U_flat.shape)\n",
    "\n",
    "    pca = PCA(n_components=dim)\n",
    "    U_new_F_PCA = pca.fit_transform(U_flat)\n",
    "    kmeans = KMeans(init=\"k-means++\", n_clusters=5, n_init='auto', random_state=0)\n",
    "    \n",
    "    result = bench_k_means(kmeans=kmeans, name=\"k-means++\", data=U_new_F_PCA, labels=labels)\n",
    "    return result\n"
   ]
  },
  {
   "cell_type": "markdown",
   "metadata": {},
   "source": [
    "# Compare Mario Dataset"
   ]
  },
  {
   "cell_type": "code",
   "execution_count": 52,
   "metadata": {},
   "outputs": [],
   "source": [
    "loader = DataLoader(mario_loader('data/mario_video_test.npy'), batch_size=1, shuffle=False, num_workers=1)\n",
    "labels = [0] * 100 + [1] * 100 + [2] * 100 + [3] * 100 + [4] * 100"
   ]
  },
  {
   "cell_type": "code",
   "execution_count": 53,
   "metadata": {},
   "outputs": [
    {
     "data": {
      "text/plain": [
       "Layer_FISTA()"
      ]
     },
     "execution_count": 53,
     "metadata": {},
     "output_type": "execute_result"
    }
   ],
   "source": [
    "FISTA = Layer_FISTA(n_ch=3, lam=0.5, gamma0=1., mu=0.01/150, beta=0.5, X_dim=300, U_dim=40, patch_size=16, \n",
    "                     input_size=40, isTopLayer=True, n_steps=50)\n",
    "FISTA.to(device)\n",
    "FISTA.load_state_dict(torch.load('runs/FISTA/mario/layer1.pth.tar'))\n",
    "FISTA.eval()"
   ]
  },
  {
   "cell_type": "code",
   "execution_count": 54,
   "metadata": {},
   "outputs": [
    {
     "data": {
      "text/plain": [
       "Shrinkage_Layer()"
      ]
     },
     "execution_count": 54,
     "metadata": {},
     "output_type": "execute_result"
    }
   ],
   "source": [
    "Shrinkage = Shrinkage_Layer(n_ch=3, lam=0.5, gamma0=0.3, mu=0.3, beta=0.5, n_u=100)\n",
    "Shrinkage.to(device)\n",
    "Shrinkage.load_state_dict(torch.load('runs/shrinkage/mario/layer1.pth.tar'))\n",
    "Shrinkage.eval()"
   ]
  },
  {
   "cell_type": "code",
   "execution_count": 59,
   "metadata": {},
   "outputs": [
    {
     "ename": "KeyboardInterrupt",
     "evalue": "",
     "output_type": "error",
     "traceback": [
      "\u001b[0;31m---------------------------------------------------------------------------\u001b[0m",
      "\u001b[0;31mKeyboardInterrupt\u001b[0m                         Traceback (most recent call last)",
      "Cell \u001b[0;32mIn[59], line 6\u001b[0m\n\u001b[1;32m      4\u001b[0m \u001b[38;5;28;01mfor\u001b[39;00m _, data \u001b[38;5;129;01min\u001b[39;00m \u001b[38;5;28menumerate\u001b[39m(loader):\n\u001b[1;32m      5\u001b[0m     data \u001b[38;5;241m=\u001b[39m data\u001b[38;5;241m.\u001b[39mto(torch\u001b[38;5;241m.\u001b[39mfloat32)\u001b[38;5;241m.\u001b[39mto(device)\n\u001b[0;32m----> 6\u001b[0m     X_F, U_F \u001b[38;5;241m=\u001b[39m \u001b[43mFISTA\u001b[49m\u001b[38;5;241;43m.\u001b[39;49m\u001b[43minference\u001b[49m\u001b[43m(\u001b[49m\u001b[43mdata\u001b[49m\u001b[43m)\u001b[49m\n\u001b[1;32m      7\u001b[0m     X_S, U_S \u001b[38;5;241m=\u001b[39m Shrinkage\u001b[38;5;241m.\u001b[39minference(data)\n\u001b[1;32m      9\u001b[0m     \u001b[38;5;28mprint\u001b[39m(\u001b[38;5;124m\"\u001b[39m\u001b[38;5;124minit\u001b[39m\u001b[38;5;130;01m\\t\u001b[39;00m\u001b[38;5;130;01m\\t\u001b[39;00m\u001b[38;5;124mtime\u001b[39m\u001b[38;5;130;01m\\t\u001b[39;00m\u001b[38;5;124minertia\u001b[39m\u001b[38;5;130;01m\\t\u001b[39;00m\u001b[38;5;124mcompl\u001b[39m\u001b[38;5;130;01m\\t\u001b[39;00m\u001b[38;5;124mARI\u001b[39m\u001b[38;5;130;01m\\t\u001b[39;00m\u001b[38;5;124mss\u001b[39m\u001b[38;5;124m\"\u001b[39m)\n",
      "File \u001b[0;32m~/ML/DPCN/utils/model.py:263\u001b[0m, in \u001b[0;36mLayer_FISTA.inference\u001b[0;34m(self, video)\u001b[0m\n\u001b[1;32m    261\u001b[0m \u001b[38;5;28;01mif\u001b[39;00m t \u001b[38;5;241m==\u001b[39m \u001b[38;5;241m0\u001b[39m:\n\u001b[1;32m    262\u001b[0m     x_prev \u001b[38;5;241m=\u001b[39m torch\u001b[38;5;241m.\u001b[39mzeros_like(\u001b[38;5;28mself\u001b[39m\u001b[38;5;241m.\u001b[39mC\u001b[38;5;241m.\u001b[39mtranspose(\u001b[38;5;241m-\u001b[39m\u001b[38;5;241m1\u001b[39m,\u001b[38;5;241m-\u001b[39m\u001b[38;5;241m2\u001b[39m) \u001b[38;5;241m@\u001b[39m patches_t)\n\u001b[0;32m--> 263\u001b[0m x_t, u_t \u001b[38;5;241m=\u001b[39m \u001b[38;5;28;43mself\u001b[39;49m\u001b[38;5;241;43m.\u001b[39;49m\u001b[43mAM_FISTA\u001b[49m\u001b[43m(\u001b[49m\u001b[43mpatches_t\u001b[49m\u001b[43m,\u001b[49m\u001b[43m \u001b[49m\u001b[43mx_prev\u001b[49m\u001b[43m)\u001b[49m\n\u001b[1;32m    264\u001b[0m X\u001b[38;5;241m.\u001b[39mappend(x_t)\n\u001b[1;32m    265\u001b[0m U\u001b[38;5;241m.\u001b[39mappend(u_t)\n",
      "File \u001b[0;32m~/ML/DPCN/utils/model.py:335\u001b[0m, in \u001b[0;36mLayer_FISTA.AM_FISTA\u001b[0;34m(self, patches, x_t_minus_1)\u001b[0m\n\u001b[1;32m    328\u001b[0m \u001b[38;5;66;03m#stop = False\u001b[39;00m\n\u001b[1;32m    329\u001b[0m \u001b[38;5;66;03m#step = 0\u001b[39;00m\n\u001b[1;32m    330\u001b[0m \u001b[38;5;66;03m#x_sparsity = torch.abs(state['x_k'].clone()) > 0\u001b[39;00m\n\u001b[1;32m    331\u001b[0m \u001b[38;5;66;03m#while not stop and step < self.max_iter:\u001b[39;00m\n\u001b[1;32m    332\u001b[0m \u001b[38;5;28;01mfor\u001b[39;00m i \u001b[38;5;129;01min\u001b[39;00m \u001b[38;5;28mrange\u001b[39m(\u001b[38;5;28mself\u001b[39m\u001b[38;5;241m.\u001b[39mn_steps):\n\u001b[1;32m    333\u001b[0m     \u001b[38;5;66;03m#step += 1\u001b[39;00m\n\u001b[1;32m    334\u001b[0m     \u001b[38;5;66;03m#x_sparsity_prev = x_sparsity.clone()\u001b[39;00m\n\u001b[0;32m--> 335\u001b[0m     state \u001b[38;5;241m=\u001b[39m \u001b[38;5;28;43mself\u001b[39;49m\u001b[38;5;241;43m.\u001b[39;49m\u001b[43mupdate_state_FISTA\u001b[49m\u001b[43m(\u001b[49m\u001b[43mstate\u001b[49m\u001b[43m)\u001b[49m\n\u001b[1;32m    336\u001b[0m     \u001b[38;5;66;03m#for j in range(x_t.shape[2]):\u001b[39;00m\n\u001b[1;32m    337\u001b[0m     \u001b[38;5;66;03m#    states[j] = self.update_state_FISTA(states[j])\u001b[39;00m\n\u001b[1;32m    338\u001b[0m     \u001b[38;5;66;03m# state = torch.concatenate([states[j]['x_k'] for j in range(x_t.shape[2])], dim=2)\u001b[39;00m\n\u001b[1;32m    339\u001b[0m     cause[\u001b[38;5;124m'\u001b[39m\u001b[38;5;124mx\u001b[39m\u001b[38;5;124m'\u001b[39m] \u001b[38;5;241m=\u001b[39m torch\u001b[38;5;241m.\u001b[39msum(torch\u001b[38;5;241m.\u001b[39mabs(state[\u001b[38;5;124m'\u001b[39m\u001b[38;5;124mx_k\u001b[39m\u001b[38;5;124m'\u001b[39m]\u001b[38;5;241m.\u001b[39mclone()), dim\u001b[38;5;241m=\u001b[39m\u001b[38;5;241m2\u001b[39m, keepdim\u001b[38;5;241m=\u001b[39m\u001b[38;5;28;01mTrue\u001b[39;00m)\n",
      "File \u001b[0;32m~/ML/DPCN/utils/model.py:375\u001b[0m, in \u001b[0;36mLayer_FISTA.update_state_FISTA\u001b[0;34m(self, state)\u001b[0m\n\u001b[1;32m    373\u001b[0m \u001b[38;5;66;03m# line search\u001b[39;00m\n\u001b[1;32m    374\u001b[0m stop_line_search \u001b[38;5;241m=\u001b[39m torch\u001b[38;5;241m.\u001b[39mzeros((z_k\u001b[38;5;241m.\u001b[39mshape[\u001b[38;5;241m0\u001b[39m]), device\u001b[38;5;241m=\u001b[39m\u001b[38;5;28mself\u001b[39m\u001b[38;5;241m.\u001b[39mdevice)\n\u001b[0;32m--> 375\u001b[0m const \u001b[38;5;241m=\u001b[39m \u001b[38;5;241m1\u001b[39m \u001b[38;5;241m/\u001b[39m \u001b[38;5;241m2\u001b[39m \u001b[38;5;241m*\u001b[39m \u001b[43mtorch\u001b[49m\u001b[38;5;241;43m.\u001b[39;49m\u001b[43msquare\u001b[49m\u001b[43m(\u001b[49m\u001b[43my\u001b[49m\u001b[43m \u001b[49m\u001b[38;5;241;43m-\u001b[39;49m\u001b[43m \u001b[49m\u001b[38;5;28;43mself\u001b[39;49m\u001b[38;5;241;43m.\u001b[39;49m\u001b[43mC\u001b[49m\u001b[43m \u001b[49m\u001b[38;5;241;43m@\u001b[39;49m\u001b[43m \u001b[49m\u001b[43mz_k\u001b[49m\u001b[43m)\u001b[49m\u001b[38;5;241;43m.\u001b[39;49m\u001b[43mflatten\u001b[49m\u001b[43m(\u001b[49m\u001b[38;5;241;43m1\u001b[39;49m\u001b[43m)\u001b[49m\u001b[38;5;241m.\u001b[39msum(\u001b[38;5;241m1\u001b[39m) \u001b[38;5;241m+\u001b[39m \\\n\u001b[1;32m    376\u001b[0m         \u001b[38;5;28mself\u001b[39m\u001b[38;5;241m.\u001b[39mlam \u001b[38;5;241m*\u001b[39m torch\u001b[38;5;241m.\u001b[39mabs(z_k \u001b[38;5;241m-\u001b[39m x_hat)\u001b[38;5;241m.\u001b[39mflatten(\u001b[38;5;241m1\u001b[39m)\u001b[38;5;241m.\u001b[39msum(\u001b[38;5;241m1\u001b[39m)\n\u001b[1;32m    377\u001b[0m step \u001b[38;5;241m=\u001b[39m \u001b[38;5;241m0\u001b[39m\n\u001b[1;32m    378\u001b[0m keep_going \u001b[38;5;241m=\u001b[39m \u001b[38;5;28;01mTrue\u001b[39;00m\n",
      "\u001b[0;31mKeyboardInterrupt\u001b[0m: "
     ]
    }
   ],
   "source": [
    "acc_F, acc_S = [], []\n",
    "ari_F, ari_S = [], []\n",
    "with torch.no_grad():\n",
    "    for _, data in enumerate(loader):\n",
    "        data = data.to(torch.float32).to(device)\n",
    "        X_F, U_F = FISTA.inference(data)\n",
    "        X_S, U_S = Shrinkage.inference(data)\n",
    "        \n",
    "        print(\"init\\t\\ttime\\tinertia\\tcompl\\tARI\\tss\")\n",
    "        result_F = compute_scores(U_F, 2, labels)\n",
    "        result_S = compute_scores(U_S, 2, labels)\n",
    "        print()\n",
    "        \n",
    "        acc_F.append(result_F[-3])\n",
    "        acc_S.append(result_S[-3])\n",
    "        \n",
    "        ari_F.append(result_F[-2])\n",
    "        ari_S.append(result_S[-2])\n",
    "        \n",
    "print(\"FISTA ACC:\", np.mean(acc_F), \"FISTA ARI:\", np.mean(ari_F))\n",
    "print(\"Shrinkage ACC:\", np.mean(acc_S), \"Shrinkage ARI:\", np.mean(ari_S))"
   ]
  },
  {
   "cell_type": "code",
   "execution_count": 58,
   "metadata": {},
   "outputs": [
    {
     "name": "stdout",
     "output_type": "stream",
     "text": [
      "init\t\ttime\tinertia\tcompl\tARI\tss\n",
      "k-means++\t0.003s\t10\t0.8875\t0.8685\t0.6638\n",
      "k-means++\t0.003s\t14\t0.9652\t0.9750\t0.8665\n"
     ]
    }
   ],
   "source": [
    "print(\"init\\t\\ttime\\tinertia\\tcompl\\tARI\\tss\")\n",
    "result_F = compute_scores(U_F, 2, labels)\n",
    "result_S = compute_scores(U_S, 2, labels)"
   ]
  },
  {
   "cell_type": "code",
   "execution_count": 44,
   "metadata": {},
   "outputs": [],
   "source": []
  },
  {
   "cell_type": "code",
   "execution_count": 45,
   "metadata": {},
   "outputs": [],
   "source": [
    "dim = 2"
   ]
  },
  {
   "cell_type": "code",
   "execution_count": 46,
   "metadata": {},
   "outputs": [
    {
     "name": "stdout",
     "output_type": "stream",
     "text": [
      "(3, 1, 40, 1, 500)\n",
      "(3, 40, 1, 500)\n",
      "(500, 120)\n",
      "init\t\ttime\tinertia\tcompl\tARI\tss\n",
      "k-means++\t0.003s\t10\t0.8875\t0.8685\t0.6638\n"
     ]
    }
   ],
   "source": [
    "labels = [0] * 100 + [1] * 100 + [2] * 100 + [3] * 100 + [4] * 100\n",
    "\n",
    "U_np_F = U_F[0].cpu().numpy()\n",
    "print(U_np_F.shape)\n",
    "U_np_F = np.mean(U_np_F, axis=1)\n",
    "print(U_np_F.shape)\n",
    "\n",
    "U_new_F = np.zeros((U_np_F.shape[-1], U_np_F.shape[0] * U_np_F.shape[1]))\n",
    "for i in range(U_np_F.shape[-1]):\n",
    "    U_new_F[i, :] = U_np_F[:,:,:,i].flatten()\n",
    "print(U_new_F.shape)\n",
    "\n",
    "pca = PCA(n_components=dim)\n",
    "U_new_F_PCA = pca.fit_transform(U_new_F)\n",
    "kmeans = KMeans(init=\"k-means++\", n_clusters=5, n_init='auto', random_state=0)\n",
    "print(\"init\\t\\ttime\\tinertia\\tcompl\\tARI\\tss\")\n",
    "result_F = bench_k_means(kmeans=kmeans, name=\"k-means++\", data=U_new_F_PCA, labels=labels)\n"
   ]
  },
  {
   "cell_type": "code",
   "execution_count": 47,
   "metadata": {},
   "outputs": [
    {
     "name": "stdout",
     "output_type": "stream",
     "text": [
      "(3, 40, 1, 500)\n",
      "(500, 120)\n",
      "init\t\ttime\tinertia\tcompl\tARI\tss\n",
      "k-means++\t0.003s\t14\t0.9583\t0.9700\t0.8647\n"
     ]
    }
   ],
   "source": [
    "U_np_S = U_S[0].cpu().numpy()\n",
    "U_np_S = np.mean(U_np_S, axis=1)\n",
    "print(U_np_S.shape)\n",
    "\n",
    "U_new_S = np.zeros((U_np_S.shape[-1], U_np_S.shape[0] * U_np_S.shape[1]))\n",
    "for i in range(U_np_S.shape[-1]):\n",
    "    U_new_S[i, :] = U_np_S[:,:,:,i].flatten()\n",
    "print(U_new_S.shape)\n",
    "pca = PCA(n_components=dim)\n",
    "U_new_S_PCA = pca.fit_transform(U_new_S)\n",
    "kmeans1 = KMeans(init=\"k-means++\", n_clusters=5, n_init='auto', random_state=0)\n",
    "print(\"init\\t\\ttime\\tinertia\\tcompl\\tARI\\tss\")\n",
    "result_S = bench_k_means(kmeans=kmeans1, name=\"k-means++\", data=U_new_S_PCA, labels=labels)"
   ]
  },
  {
   "cell_type": "code",
   "execution_count": 49,
   "metadata": {},
   "outputs": [
    {
     "data": {
      "text/plain": [
       "['k-means++',\n",
       " 0.0025277137756347656,\n",
       " 13.915712961770728,\n",
       " 0.9582666279628529,\n",
       " 0.9699875876844822,\n",
       " 0.8647439562664508]"
      ]
     },
     "execution_count": 49,
     "metadata": {},
     "output_type": "execute_result"
    }
   ],
   "source": [
    "result_F\n",
    "result_S"
   ]
  },
  {
   "cell_type": "code",
   "execution_count": 10,
   "metadata": {},
   "outputs": [
    {
     "data": {
      "text/plain": [
       "<matplotlib.image.AxesImage at 0x7fc2de4907d0>"
      ]
     },
     "execution_count": 10,
     "metadata": {},
     "output_type": "execute_result"
    },
    {
     "data": {
      "image/png": "[encoded data removed]",
      "text/plain": [
       "<Figure size 640x480 with 1 Axes>"
      ]
     },
     "metadata": {},
     "output_type": "display_data"
    }
   ],
   "source": [
    "plt.imshow(U_new_S.T)"
   ]
  },
  {
   "cell_type": "code",
   "execution_count": 11,
   "metadata": {},
   "outputs": [
    {
     "data": {
      "text/plain": [
       "<matplotlib.image.AxesImage at 0x7fc2a00d0250>"
      ]
     },
     "execution_count": 11,
     "metadata": {},
     "output_type": "execute_result"
    },
    {
     "data": {
      "image/png": "[encoded data removed]",
      "text/plain": [
       "<Figure size 640x480 with 1 Axes>"
      ]
     },
     "metadata": {},
     "output_type": "display_data"
    }
   ],
   "source": [
    "plt.imshow(U_new_F.T)"
   ]
  }
 ],
 "metadata": {
  "kernelspec": {
   "display_name": "universe",
   "language": "python",
   "name": "python3"
  },
  "language_info": {
   "codemirror_mode": {
    "name": "ipython",
    "version": 3
   },
   "file_extension": ".py",
   "mimetype": "text/x-python",
   "name": "python",
   "nbconvert_exporter": "python",
   "pygments_lexer": "ipython3",
   "version": "3.11.5"
  }
 },
 "nbformat": 4,
 "nbformat_minor": 2
}
