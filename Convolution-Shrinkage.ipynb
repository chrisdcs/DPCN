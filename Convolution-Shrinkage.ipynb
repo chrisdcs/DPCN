{
 "cells": [
  {
   "cell_type": "markdown",
   "metadata": {},
   "source": [
    "# Use Toplez Matrix to turn the 2D convolution into matrix multiplication"
   ]
  },
  {
   "cell_type": "code",
   "execution_count": 1,
   "metadata": {},
   "outputs": [],
   "source": [
    "import torch\n",
    "import torch.nn.functional as F\n",
    "import numpy as np\n",
    "\n",
    "import scipy.linalg as linalg\n",
    "import PIL.Image as Image\n",
    "import matplotlib.pyplot as plt"
   ]
  },
  {
   "cell_type": "code",
   "execution_count": 2,
   "metadata": {},
   "outputs": [
    {
     "data": {
      "text/plain": [
       "tensor(5.7220e-06)"
      ]
     },
     "execution_count": 2,
     "metadata": {},
     "output_type": "execute_result"
    }
   ],
   "source": [
    "# Convolution is equivalent with Unfold + Matrix Multiplication + Fold (or view to output shape)\n",
    "inp = torch.randn(1, 3, 10, 12)\n",
    "w = torch.randn(2, 3, 4, 5)\n",
    "inp_unf = torch.nn.functional.unfold(inp, (4, 5))\n",
    "out_unf = inp_unf.transpose(1, 2).matmul(w.view(w.size(0), -1).t()).transpose(1, 2)\n",
    "out = out_unf.view(1, 2, 7, 8)\n",
    "(torch.nn.functional.conv2d(inp, w) - out).abs().max()"
   ]
  },
  {
   "cell_type": "markdown",
   "metadata": {},
   "source": [
    "# Try to understand how it works"
   ]
  },
  {
   "cell_type": "code",
   "execution_count": 3,
   "metadata": {},
   "outputs": [
    {
     "name": "stdout",
     "output_type": "stream",
     "text": [
      "torch.Size([1, 60, 56]) torch.Size([60, 2])\n"
     ]
    }
   ],
   "source": [
    "print(inp_unf.shape, w.view(w.size(0), -1).t().shape)"
   ]
  },
  {
   "cell_type": "markdown",
   "metadata": {},
   "source": [
    "## Generate specific matrix for convolution"
   ]
  },
  {
   "cell_type": "code",
   "execution_count": 4,
   "metadata": {},
   "outputs": [
    {
     "name": "stdout",
     "output_type": "stream",
     "text": [
      "original input:\n",
      " tensor([[[[  1.,   2.,   3.,   4.,   5.,   6.,   7.,   8.,   9.,  10.,  11.,\n",
      "            12.],\n",
      "          [ 13.,  14.,  15.,  16.,  17.,  18.,  19.,  20.,  21.,  22.,  23.,\n",
      "            24.],\n",
      "          [ 25.,  26.,  27.,  28.,  29.,  30.,  31.,  32.,  33.,  34.,  35.,\n",
      "            36.],\n",
      "          [ 37.,  38.,  39.,  40.,  41.,  42.,  43.,  44.,  45.,  46.,  47.,\n",
      "            48.],\n",
      "          [ 49.,  50.,  51.,  52.,  53.,  54.,  55.,  56.,  57.,  58.,  59.,\n",
      "            60.],\n",
      "          [ 61.,  62.,  63.,  64.,  65.,  66.,  67.,  68.,  69.,  70.,  71.,\n",
      "            72.],\n",
      "          [ 73.,  74.,  75.,  76.,  77.,  78.,  79.,  80.,  81.,  82.,  83.,\n",
      "            84.],\n",
      "          [ 85.,  86.,  87.,  88.,  89.,  90.,  91.,  92.,  93.,  94.,  95.,\n",
      "            96.],\n",
      "          [ 97.,  98.,  99., 100., 101., 102., 103., 104., 105., 106., 107.,\n",
      "           108.],\n",
      "          [109., 110., 111., 112., 113., 114., 115., 116., 117., 118., 119.,\n",
      "           120.]]]])\n",
      "\n",
      "shape after unfold:  torch.Size([1, 20, 56])\n",
      "20 is the block size, 56 is the number of blocks\n",
      "\n",
      "Let's slice and see one block, then it makes total sense, unfolded[0,:,0] is:\n",
      " tensor([ 1.,  2.,  3.,  4.,  5., 13., 14., 15., 16., 17., 25., 26., 27., 28.,\n",
      "        29., 37., 38., 39., 40., 41.])\n",
      "\n",
      "reshape the slice into block shape: \n",
      " tensor([[ 1.,  2.,  3.,  4.,  5.],\n",
      "        [13., 14., 15., 16., 17.],\n",
      "        [25., 26., 27., 28., 29.],\n",
      "        [37., 38., 39., 40., 41.]])\n"
     ]
    }
   ],
   "source": [
    "inp = np.arange(1,121)\n",
    "w = np.arange(1,21)\n",
    "inp = torch.from_numpy(inp).float().view(1, 1, 10, 12)\n",
    "print(\"original input:\\n\", inp.data)\n",
    "w = torch.from_numpy(w).float().view(1, 1, 4, 5)\n",
    "#print(inp)\n",
    "unfolded = torch.nn.functional.unfold(inp, (4, 5), padding=0, stride=1)\n",
    "print(\"\\nshape after unfold: \", unfolded.shape)\n",
    "print(f\"{unfolded.shape[1]} is the block size, {unfolded.shape[2]} is the number of blocks\\n\")\n",
    "print(\"Let's slice and see one block, then it makes total sense, unfolded[0,:,0] is:\\n\", unfolded[0, :,0])\n",
    "print(\"\\nreshape the slice into block shape: \\n\", unfolded[0, :,0].reshape(4,5))"
   ]
  },
  {
   "cell_type": "code",
   "execution_count": 5,
   "metadata": {},
   "outputs": [
    {
     "name": "stdout",
     "output_type": "stream",
     "text": [
      "tensor([[[[ 1.,  2.,  3.,  4.,  5.],\n",
      "          [ 6.,  7.,  8.,  9., 10.],\n",
      "          [11., 12., 13., 14., 15.],\n",
      "          [16., 17., 18., 19., 20.]]]])\n"
     ]
    }
   ],
   "source": [
    "print(w)"
   ]
  },
  {
   "cell_type": "markdown",
   "metadata": {},
   "source": [
    "# Explanation\n",
    "\n",
    "The unfold function returns a tensor with size: $(N,C\\times\\Pi(\\text{kernel size}),L)$ where $C\\times\\Pi(\\text{kernel size})$ is the block size, and $L$ is the total number of such blocks.\n",
    "\n",
    "Therefore we flatten the kernel into a 1D tensor, and then use the transposed version (expose each block) of unfolded tensor, then multiply it with the flattened kernel tensor."
   ]
  },
  {
   "cell_type": "code",
   "execution_count": 6,
   "metadata": {},
   "outputs": [
    {
     "data": {
      "text/plain": [
       "tensor(0.)"
      ]
     },
     "execution_count": 6,
     "metadata": {},
     "output_type": "execute_result"
    }
   ],
   "source": [
    "out_unf = unfolded.transpose(1, 2).matmul(w.view(w.size(0), -1).t()).transpose(1, 2)\n",
    "out = out_unf.view(1, 1, 7, 8)\n",
    "(torch.nn.functional.conv2d(inp, w) - out).abs().max()"
   ]
  },
  {
   "cell_type": "markdown",
   "metadata": {},
   "source": [
    "# Multi-Channel Convolution as Matrix Multiplication"
   ]
  },
  {
   "cell_type": "code",
   "execution_count": 79,
   "metadata": {},
   "outputs": [],
   "source": [
    "def toeplitz_1_ch(kernel, input_size):\n",
    "    # shapes\n",
    "    k_h, k_w = kernel.shape\n",
    "    i_h, i_w = input_size\n",
    "    o_h, o_w = i_h-k_h+1, i_w-k_w+1\n",
    "\n",
    "    # construct 1d conv toeplitz matrices for each row of the kernel\n",
    "    toeplitz = []\n",
    "    for r in range(k_h):\n",
    "        toeplitz.append(linalg.toeplitz(c=(kernel[r,0], *np.zeros(i_w-k_w)), r=(*kernel[r], *np.zeros(i_w-k_w))))\n",
    "\n",
    "    # construct toeplitz matrix of toeplitz matrices (just for padding=0)\n",
    "    h_blocks, w_blocks = o_h, i_h\n",
    "    h_block, w_block = toeplitz[0].shape\n",
    "\n",
    "    W_conv = np.zeros((h_blocks, h_block, w_blocks, w_block))\n",
    "\n",
    "    for i, B in enumerate(toeplitz):\n",
    "        for j in range(o_h):\n",
    "            W_conv[j, :, i+j, :] = B\n",
    "\n",
    "    W_conv.shape = (h_blocks*h_block, w_blocks*w_block)\n",
    "\n",
    "    return W_conv\n",
    "\n",
    "def toeplitz_mult_ch(kernel, input_size):\n",
    "    \"\"\"Compute toeplitz matrix for 2d conv with multiple in and out channels.\n",
    "    Args:\n",
    "        kernel: shape=(n_out, n_in, H_k, W_k)\n",
    "        input_size: (n_in, H_i, W_i)\"\"\"\n",
    "\n",
    "    kernel_size = kernel.shape\n",
    "    output_size = (kernel_size[0], input_size[1] - (kernel_size[2]-1), input_size[2] - (kernel_size[3]-1))\n",
    "    T = np.zeros((output_size[0], int(np.prod(output_size[1:])), input_size[0], int(np.prod(input_size[1:]))))\n",
    "\n",
    "    for i,ks in enumerate(kernel):  # loop over output channel\n",
    "        for j,k in enumerate(ks):  # loop over input channel\n",
    "            T_k = toeplitz_1_ch(k, input_size[1:])\n",
    "            T[i, :, j, :] = T_k\n",
    "\n",
    "    T.shape = (np.prod(output_size), np.prod(input_size))\n",
    "\n",
    "    return T"
   ]
  },
  {
   "cell_type": "code",
   "execution_count": 8,
   "metadata": {},
   "outputs": [
    {
     "name": "stdout",
     "output_type": "stream",
     "text": [
      "2d kernel is:\n",
      " [[1 2]\n",
      " [3 4]]\n",
      "\n",
      "shape for the toeplitz matrix:  (9, 16)\n",
      "\n",
      "the first block of the toeplitz matrix:\n",
      " [1. 2. 0. 0. 3. 4. 0. 0. 0. 0. 0. 0. 0. 0. 0. 0.]\n",
      "\n",
      "the second block of the toeplitz matrix:\n",
      " [0. 1. 2. 0. 0. 3. 4. 0. 0. 0. 0. 0. 0. 0. 0. 0.]\n",
      "\n",
      "the entire toeplitz matrix:\n",
      " [[1. 2. 0. 0. 3. 4. 0. 0. 0. 0. 0. 0. 0. 0. 0. 0.]\n",
      " [0. 1. 2. 0. 0. 3. 4. 0. 0. 0. 0. 0. 0. 0. 0. 0.]\n",
      " [0. 0. 1. 2. 0. 0. 3. 4. 0. 0. 0. 0. 0. 0. 0. 0.]\n",
      " [0. 0. 0. 0. 1. 2. 0. 0. 3. 4. 0. 0. 0. 0. 0. 0.]\n",
      " [0. 0. 0. 0. 0. 1. 2. 0. 0. 3. 4. 0. 0. 0. 0. 0.]\n",
      " [0. 0. 0. 0. 0. 0. 1. 2. 0. 0. 3. 4. 0. 0. 0. 0.]\n",
      " [0. 0. 0. 0. 0. 0. 0. 0. 1. 2. 0. 0. 3. 4. 0. 0.]\n",
      " [0. 0. 0. 0. 0. 0. 0. 0. 0. 1. 2. 0. 0. 3. 4. 0.]\n",
      " [0. 0. 0. 0. 0. 0. 0. 0. 0. 0. 1. 2. 0. 0. 3. 4.]]\n",
      "\n",
      "input is:\n",
      " [[ 1  2  3  4]\n",
      " [ 5  6  7  8]\n",
      " [ 9 10 11 12]\n",
      " [13 14 15 16]]\n",
      "\n",
      "kernel is:\n",
      " [[1 2]\n",
      " [3 4]]\n",
      "\n",
      "flattened input is:\n",
      " [ 1  2  3  4  5  6  7  8  9 10 11 12 13 14 15 16]\n",
      "\n",
      " output (9,) is:\n",
      " [ 44.  54.  64.  84.  94. 104. 124. 134. 144.]\n"
     ]
    }
   ],
   "source": [
    "kernel = np.arange(1,5).reshape(2,2)\n",
    "print(\"2d kernel is:\\n\", kernel)\n",
    "test = toeplitz_1_ch(kernel=kernel, input_size=(4,4))\n",
    "print(\"\\nshape for the toeplitz matrix: \", test.shape)\n",
    "print(\"\\nthe first block of the toeplitz matrix:\\n\", test[0])\n",
    "print(\"\\nthe second block of the toeplitz matrix:\\n\", test[1])\n",
    "print(\"\\nthe entire toeplitz matrix:\\n\", test)\n",
    "inp = np.arange(1,17)#.reshape(1,1,10,12)\n",
    "print(\"\\ninput is:\\n\", inp.reshape(4,4))\n",
    "print(\"\\nkernel is:\\n\", kernel)\n",
    "\n",
    "print(\"\\nflattened input is:\\n\", inp)\n",
    "output = test @ inp\n",
    "print(f\"\\n output {output.shape} is:\\n\", output)"
   ]
  },
  {
   "cell_type": "code",
   "execution_count": 88,
   "metadata": {},
   "outputs": [
    {
     "name": "stdout",
     "output_type": "stream",
     "text": [
      "Toeplitz matrix shape:  (1, 1152, 48)\n",
      "Input shape:  (1, 48, 1)\n",
      "Output shape:  (1, 128, 3, 3)\n",
      "4.121413542200514e-28\n"
     ]
    }
   ],
   "source": [
    "k = np.random.randn(128*3*2*2).reshape((128,3,2,2))\n",
    "i = np.random.randn(3,4,4)\n",
    "\n",
    "T = toeplitz_mult_ch(k, i.shape)[None, ...]\n",
    "i = i.flatten()[None, :, None]\n",
    "out = T.dot(i.flatten()).reshape((1,128,3,3))\n",
    "\n",
    "print(\"Toeplitz matrix shape: \", T.shape)\n",
    "print(\"Input shape: \", i.shape)\n",
    "print(\"Output shape: \", out.shape)\n",
    "\n",
    "# check correctness of convolution via toeplitz matrix\n",
    "print(np.sum((out - F.conv2d(torch.tensor(i).view(1,3,4,4), torch.tensor(k)).numpy())**2))"
   ]
  },
  {
   "cell_type": "markdown",
   "metadata": {},
   "source": [
    "# Let's try this with shrinkage algorithm"
   ]
  },
  {
   "cell_type": "code",
   "execution_count": 112,
   "metadata": {},
   "outputs": [
    {
     "name": "stdout",
     "output_type": "stream",
     "text": [
      "image shape: (32, 32, 3) padded image shape: (40, 40, 3)\n"
     ]
    },
    {
     "data": {
      "image/png": "[encoded data removed]",
      "text/plain": [
       "<Figure size 500x300 with 2 Axes>"
      ]
     },
     "metadata": {},
     "output_type": "display_data"
    }
   ],
   "source": [
    "img = Image.open('img_002_SRF_2_LR.png')\n",
    "img = img.resize((32,32),Image.BICUBIC)\n",
    "img = np.asarray(img)\n",
    "# normalize img\n",
    "img = img/255.0\n",
    "# zero pad image by adding 3 zeros to each side\n",
    "img_pad = np.pad(img, ((4,4),(4,4),(0,0)), mode='constant')\n",
    "\n",
    "fig, axs = plt.subplots(1, 2, figsize=(5, 3))\n",
    "axs[0].imshow(img)\n",
    "axs[0].set_title('Original Image')\n",
    "axs[0].axis('off')\n",
    "axs[1].imshow(img_pad)\n",
    "axs[1].set_title('Padded Image')\n",
    "axs[1].axis('off')\n",
    "\n",
    "print(\"image shape:\", img.shape, \"padded image shape:\", img_pad.shape)"
   ]
  },
  {
   "cell_type": "code",
   "execution_count": 113,
   "metadata": {},
   "outputs": [
    {
     "name": "stdout",
     "output_type": "stream",
     "text": [
      "the toeplitz matrix for 128x3x9x9 kernel shape:  (131072, 4800)\n",
      "flattened padded image shape:  (4800,)\n"
     ]
    }
   ],
   "source": [
    "# initialize kernel\n",
    "k = np.random.randn(128*3*9*9).reshape((128,3,9,9))\n",
    "C = toeplitz_mult_ch(k, (3,40,40))\n",
    "print(\"the toeplitz matrix for 128x3x9x9 kernel shape: \", C.shape)\n",
    "print(\"flattened padded image shape: \", img_pad.flatten().shape)"
   ]
  },
  {
   "cell_type": "code",
   "execution_count": 114,
   "metadata": {},
   "outputs": [
    {
     "name": "stdout",
     "output_type": "stream",
     "text": [
      "pytorch image shape: torch.Size([1, 4800, 1])\n",
      "pytorch toeplitz matrix shape: torch.Size([1, 4800, 131072])\n",
      "state shape:  torch.Size([1, 131072, 1])\n",
      "2.6758417e-07\n"
     ]
    }
   ],
   "source": [
    "# try everything in pytorch\n",
    "C_torch = torch.FloatTensor(C).unsqueeze(0).transpose(-1,-2)\n",
    "y = torch.FloatTensor(img_pad).permute(2,0,1).flatten()[None, :, None]\n",
    "print(\"pytorch image shape:\", y.shape)\n",
    "print(\"pytorch toeplitz matrix shape:\", C_torch.shape)\n",
    "x = C_torch.transpose(-1,-2) @ y\n",
    "print(\"state shape: \", x.shape)\n",
    "\n",
    "# check correctness of convolution via toeplitz matrix\n",
    "print(np.sum((x.numpy().reshape(1,128,32,32) - F.conv2d(y.view(1,3,40,40), torch.FloatTensor(k)).numpy())**2))"
   ]
  },
  {
   "cell_type": "code",
   "execution_count": 125,
   "metadata": {},
   "outputs": [],
   "source": [
    "mu = 0.2\n",
    "Cy = x.clone()\n",
    "x_k = x.clone()\n",
    "I_x = torch.eye(C_torch.shape[-2]).unsqueeze(0).unsqueeze(0)\n",
    "loss_list = []\n",
    "for i in range(2):\n",
    "    W_inv = torch.div(torch.abs(x_k), mu)\n",
    "    x_k = W_inv * Cy - (W_inv.transpose(-1,-2) * C_torch).transpose(-1,-2) @ \\\n",
    "                        torch.inverse(I_x+(C_torch * W_inv.transpose(-1,-2)) @ C_torch.transpose(-1,-2)) @ \\\n",
    "                        ((C_torch * W_inv.transpose(-1,-2)) @ Cy)\n",
    "    loss = torch.norm(y - C_torch @ x_k).item()+mu * torch.norm(x_k,1).item()\n",
    "    loss_list.append(loss)"
   ]
  },
  {
   "cell_type": "code",
   "execution_count": 126,
   "metadata": {},
   "outputs": [
    {
     "name": "stdout",
     "output_type": "stream",
     "text": [
      "[9.352375984191895, 0.5291255116462708]\n"
     ]
    }
   ],
   "source": [
    "print(loss_list)"
   ]
  },
  {
   "cell_type": "code",
   "execution_count": 130,
   "metadata": {},
   "outputs": [
    {
     "name": "stdout",
     "output_type": "stream",
     "text": [
      "the ratio of zero elements is 25.83%\n"
     ]
    },
    {
     "data": {
      "image/png": "[encoded data removed]",
      "text/plain": [
       "<Figure size 300x300 with 1 Axes>"
      ]
     },
     "metadata": {},
     "output_type": "display_data"
    }
   ],
   "source": [
    "plt.figure(figsize=(3,3))\n",
    "_ = plt.hist(x_k.numpy().flatten(), bins=100)\n",
    "print(f\"the ratio of zero elements is {float(torch.sum(torch.abs(x_k)<1e-5)/(np.prod(x_k.shape)))*100:.2f}%\")\n",
    "x_shrinkage = x_k.numpy().flatten().copy()"
   ]
  },
  {
   "cell_type": "code",
   "execution_count": 131,
   "metadata": {},
   "outputs": [
    {
     "data": {
      "text/plain": [
       "(-0.5, 31.5, 31.5, -0.5)"
      ]
     },
     "execution_count": 131,
     "metadata": {},
     "output_type": "execute_result"
    },
    {
     "data": {
      "image/png": "[encoded data removed]",
      "text/plain": [
       "<Figure size 600x300 with 2 Axes>"
      ]
     },
     "metadata": {},
     "output_type": "display_data"
    }
   ],
   "source": [
    "test_recon = (C_torch @ x_k).view(3,40,40).permute(1,2,0).numpy()\n",
    "\n",
    "fig, ax = plt.subplots(1, 2, figsize=(6, 3))\n",
    "ax[0].imshow(img)\n",
    "ax[0].set_title('Original Image')\n",
    "ax[0].axis('off')\n",
    "ax[1].imshow(test_recon[4:-4,4:-4,:].clip(0,1))\n",
    "ax[1].set_title('Reconstructed Image')\n",
    "ax[1].axis('off')"
   ]
  }
 ],
 "metadata": {
  "kernelspec": {
   "display_name": "universe",
   "language": "python",
   "name": "python3"
  },
  "language_info": {
   "codemirror_mode": {
    "name": "ipython",
    "version": 3
   },
   "file_extension": ".py",
   "mimetype": "text/x-python",
   "name": "python",
   "nbconvert_exporter": "python",
   "pygments_lexer": "ipython3",
   "version": "3.11.5"
  }
 },
 "nbformat": 4,
 "nbformat_minor": 2
}
